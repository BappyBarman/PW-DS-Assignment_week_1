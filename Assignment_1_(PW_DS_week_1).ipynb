{
  "nbformat": 4,
  "nbformat_minor": 0,
  "metadata": {
    "colab": {
      "provenance": []
    },
    "kernelspec": {
      "name": "python3",
      "display_name": "Python 3"
    },
    "language_info": {
      "name": "python"
    }
  },
  "cells": [
    {
      "cell_type": "markdown",
      "source": [
        "Q1. Create one variable containing following type of data:\n",
        "(i) string\n",
        "(ii) list\n",
        "(iii) float\n",
        "(iv) tuple"
      ],
      "metadata": {
        "id": "_fbN85_Z9TBZ"
      }
    },
    {
      "cell_type": "code",
      "source": [
        "#(i) string\n",
        "a = \"Bappy\"\n",
        "#(ii) list\n",
        "b = [5,6,7, \"Bappy\" , True , 5+6j]\n",
        "#(iii) float\n",
        "c = 3.46\n",
        "#(iv) tuple\n",
        "d = (\"cold\",60,63,\"ball\")"
      ],
      "metadata": {
        "id": "z1fSPjoZ9V4F"
      },
      "execution_count": 6,
      "outputs": []
    },
    {
      "cell_type": "markdown",
      "source": [
        "Q2. Given are some following variables containing data:\n",
        "(i) var1 = ‘ ‘\n",
        "(ii) var2 = ‘[ DS , ML , Python]’\n",
        "(iii) var3 = [ ‘DS’ , ’ML’ , ‘Python’ ]\n",
        "(iv) var4 = 1."
      ],
      "metadata": {
        "id": "wLbavf1d_RkK"
      }
    },
    {
      "cell_type": "code",
      "source": [
        "var1 = ' '\n",
        "var2 = '[ DS , ML , Python]'\n",
        "var3 = ['DS' , 'ML' , 'Python']\n",
        "var4 = 1.\n",
        "print (type(var1))\n",
        "print (type(var2))\n",
        "print (type(var3))\n",
        "print (type(var4))"
      ],
      "metadata": {
        "colab": {
          "base_uri": "https://localhost:8080/"
        },
        "id": "hYq6dq1N_VGJ",
        "outputId": "fb46c13e-2268-4eae-b68a-3e77c222bcf5"
      },
      "execution_count": 10,
      "outputs": [
        {
          "output_type": "stream",
          "name": "stdout",
          "text": [
            "<class 'str'>\n",
            "<class 'str'>\n",
            "<class 'list'>\n",
            "<class 'float'>\n"
          ]
        }
      ]
    },
    {
      "cell_type": "markdown",
      "source": [
        "Q3. Explain the use of the following operators using an example:\n",
        "(i) /\n",
        "(ii) %\n",
        "(iii) //\n",
        "(iv) **"
      ],
      "metadata": {
        "id": "uwrvNZQcAg7X"
      }
    },
    {
      "cell_type": "code",
      "source": [
        "print(\"Division operator\", 30/5) # '/' is a division operator which is give float value upon division.\n",
        "print(\"modular operator\", 30%7) # '%' is a modular operator which return the reminder after divition.\n",
        "print(\"Floor operator\", 9//2) # '//' is a floor operator which is return int value after division.\n",
        "print(\"Power operator\", 2**3) # '** is a power operator which return exponentioal value."
      ],
      "metadata": {
        "colab": {
          "base_uri": "https://localhost:8080/"
        },
        "id": "GWp_P3fcAlNg",
        "outputId": "35757bef-753c-48e8-ba6f-85d33ae09a9c"
      },
      "execution_count": 11,
      "outputs": [
        {
          "output_type": "stream",
          "name": "stdout",
          "text": [
            "Division operator 6.0\n",
            "modular operator 2\n",
            "Floor operator 4\n",
            "Power operator 8\n"
          ]
        }
      ]
    },
    {
      "cell_type": "markdown",
      "source": [
        "Q4. Create a list of length 10 of your choice containing multiple types of data. Using for loop print the\n",
        "element and its data type."
      ],
      "metadata": {
        "id": "5C0BPvPxChVE"
      }
    },
    {
      "cell_type": "code",
      "source": [
        "list1 = [4,56,5.6,\"Bappy\", True, 5+5j,12,'Data',77,'LOVE']\n",
        "for i in list1 :\n",
        "  print(i, \"----------------Which is a data type of \", type(i))"
      ],
      "metadata": {
        "colab": {
          "base_uri": "https://localhost:8080/"
        },
        "id": "hxy07a4PCm9N",
        "outputId": "e52db767-19f3-4dbf-b55f-1d5bff3a8058"
      },
      "execution_count": 16,
      "outputs": [
        {
          "output_type": "stream",
          "name": "stdout",
          "text": [
            "4 ----------------Which is a data type of  <class 'int'>\n",
            "56 ----------------Which is a data type of  <class 'int'>\n",
            "5.6 ----------------Which is a data type of  <class 'float'>\n",
            "Bappy ----------------Which is a data type of  <class 'str'>\n",
            "True ----------------Which is a data type of  <class 'bool'>\n",
            "(5+5j) ----------------Which is a data type of  <class 'complex'>\n",
            "12 ----------------Which is a data type of  <class 'int'>\n",
            "Data ----------------Which is a data type of  <class 'str'>\n",
            "77 ----------------Which is a data type of  <class 'int'>\n",
            "LOVE ----------------Which is a data type of  <class 'str'>\n"
          ]
        }
      ]
    },
    {
      "cell_type": "markdown",
      "source": [
        "Q5. Using a while loop, verify if the number A is purely divisible by number B and if so then how many\n",
        "times it can be divisible."
      ],
      "metadata": {
        "id": "m0DrTOSwEZfB"
      }
    },
    {
      "cell_type": "code",
      "source": [
        "A = int(input(\"Enter the first number \"))\n",
        "B = int(input(\"Enter the second number \"))\n",
        "i = 0 # for counting\n",
        "while A%B == 0 :\n",
        "  A = A/B\n",
        "  i += 1\n",
        "if i > 0 :\n",
        "  print(\"A is purely divisible by number B \", i, \"times divisible\")\n",
        "else :\n",
        "  print(\"A is not purly divisible by number B\")"
      ],
      "metadata": {
        "colab": {
          "base_uri": "https://localhost:8080/"
        },
        "id": "YlNliRfWEblg",
        "outputId": "24f47722-5376-4893-bba6-622dedbba5c8"
      },
      "execution_count": 23,
      "outputs": [
        {
          "output_type": "stream",
          "name": "stdout",
          "text": [
            "Enter the first number 45\n",
            "Enter the second number 69\n",
            "A is not purly divisible by number B\n"
          ]
        }
      ]
    },
    {
      "cell_type": "markdown",
      "source": [
        "Q6. Create a list containing 25 int type data. Using for loop and if-else condition print if the element is\n",
        "divisible by 3 or not."
      ],
      "metadata": {
        "id": "wyEt9tvTGxPH"
      }
    },
    {
      "cell_type": "code",
      "source": [
        "list_int = range(1,26)\n",
        "for i in list_int :\n",
        "  if i%3 == 0 :\n",
        "    print(i, \"is divisible by 3\")\n",
        "  else :\n",
        "    print(i, \"is not divisible by 3\")"
      ],
      "metadata": {
        "colab": {
          "base_uri": "https://localhost:8080/"
        },
        "id": "kKTeyXabGzWv",
        "outputId": "db2903d2-ecb4-43bd-fff6-e7aa982af498"
      },
      "execution_count": 22,
      "outputs": [
        {
          "output_type": "stream",
          "name": "stdout",
          "text": [
            "1 is not divisible by 3\n",
            "2 is not divisible by 3\n",
            "3 is divisible by 3\n",
            "4 is not divisible by 3\n",
            "5 is not divisible by 3\n",
            "6 is divisible by 3\n",
            "7 is not divisible by 3\n",
            "8 is not divisible by 3\n",
            "9 is divisible by 3\n",
            "10 is not divisible by 3\n",
            "11 is not divisible by 3\n",
            "12 is divisible by 3\n",
            "13 is not divisible by 3\n",
            "14 is not divisible by 3\n",
            "15 is divisible by 3\n",
            "16 is not divisible by 3\n",
            "17 is not divisible by 3\n",
            "18 is divisible by 3\n",
            "19 is not divisible by 3\n",
            "20 is not divisible by 3\n",
            "21 is divisible by 3\n",
            "22 is not divisible by 3\n",
            "23 is not divisible by 3\n",
            "24 is divisible by 3\n",
            "25 is not divisible by 3\n"
          ]
        }
      ]
    },
    {
      "cell_type": "markdown",
      "source": [
        "**Q7. What do you understand about mutable and immutable data types? Give examples for both showing\n",
        "this property.**"
      ],
      "metadata": {
        "id": "Nx51S7ifJtDd"
      }
    },
    {
      "cell_type": "code",
      "source": [
        "'''Mutable object can be modify or change after their creation where Imutable object can`t be modify or change after creation.\n",
        "ex- List is a example of mutable object and str is a example of imutable object'''\n",
        "\n",
        "a = [4,6,8,12,10.6,30] # list of int.\n",
        "b = \"BAPPY\" # is a str.\n",
        "#as example we are going to change the vale of index '3' from '12' to '56'. Because list is a mutable object.\n",
        "a[2] = 56\n",
        "print(\"modify a\", a)\n",
        "\n",
        "#as example we are going to change index '2' from 'P' to 'K', it showed error because str is a imutable object.\n",
        "b[2] = 'K'\n",
        "print(\"modify b\", b)"
      ],
      "metadata": {
        "colab": {
          "base_uri": "https://localhost:8080/",
          "height": 245
        },
        "id": "ad83EQJMJyHo",
        "outputId": "6b2a7173-5a45-4124-8bfa-1eb7a31d2808"
      },
      "execution_count": 25,
      "outputs": [
        {
          "output_type": "stream",
          "name": "stdout",
          "text": [
            "modify a [4, 6, 56, 12, 10.6, 30]\n"
          ]
        },
        {
          "output_type": "error",
          "ename": "TypeError",
          "evalue": "ignored",
          "traceback": [
            "\u001b[0;31m---------------------------------------------------------------------------\u001b[0m",
            "\u001b[0;31mTypeError\u001b[0m                                 Traceback (most recent call last)",
            "\u001b[0;32m<ipython-input-25-8e4c25915c2d>\u001b[0m in \u001b[0;36m<cell line: 11>\u001b[0;34m()\u001b[0m\n\u001b[1;32m      9\u001b[0m \u001b[0;34m\u001b[0m\u001b[0m\n\u001b[1;32m     10\u001b[0m \u001b[0;31m#as example we are going to change index '2' from 'P' to 'K', it showed error because str is a imutable object.\u001b[0m\u001b[0;34m\u001b[0m\u001b[0;34m\u001b[0m\u001b[0m\n\u001b[0;32m---> 11\u001b[0;31m \u001b[0mb\u001b[0m\u001b[0;34m[\u001b[0m\u001b[0;36m2\u001b[0m\u001b[0;34m]\u001b[0m \u001b[0;34m=\u001b[0m \u001b[0;34m'K'\u001b[0m\u001b[0;34m\u001b[0m\u001b[0;34m\u001b[0m\u001b[0m\n\u001b[0m\u001b[1;32m     12\u001b[0m \u001b[0mprint\u001b[0m\u001b[0;34m(\u001b[0m\u001b[0;34m\"modify b\"\u001b[0m\u001b[0;34m,\u001b[0m \u001b[0mb\u001b[0m\u001b[0;34m)\u001b[0m\u001b[0;34m\u001b[0m\u001b[0;34m\u001b[0m\u001b[0m\n",
            "\u001b[0;31mTypeError\u001b[0m: 'str' object does not support item assignment"
          ]
        }
      ]
    },
    {
      "cell_type": "code",
      "source": [],
      "metadata": {
        "id": "58_AswGmYSTL"
      },
      "execution_count": null,
      "outputs": []
    }
  ]
}